{
 "cells": [
  {
   "cell_type": "code",
   "execution_count": 1,
   "metadata": {},
   "outputs": [
    {
     "name": "stdout",
     "output_type": "stream",
     "text": [
      "Sat Aug 10 17:53:32 2024       \n",
      "+-----------------------------------------------------------------------------------------+\n",
      "| NVIDIA-SMI 560.70                 Driver Version: 560.70         CUDA Version: 12.6     |\n",
      "|-----------------------------------------+------------------------+----------------------+\n",
      "| GPU  Name                  Driver-Model | Bus-Id          Disp.A | Volatile Uncorr. ECC |\n",
      "| Fan  Temp   Perf          Pwr:Usage/Cap |           Memory-Usage | GPU-Util  Compute M. |\n",
      "|                                         |                        |               MIG M. |\n",
      "|=========================================+========================+======================|\n",
      "|   0  NVIDIA GeForce RTX 3050 ...  WDDM  |   00000000:01:00.0  On |                  N/A |\n",
      "| N/A   50C    P8              6W /   75W |     522MiB /   6144MiB |     20%      Default |\n",
      "|                                         |                        |                  N/A |\n",
      "+-----------------------------------------+------------------------+----------------------+\n",
      "                                                                                         \n",
      "+-----------------------------------------------------------------------------------------+\n",
      "| Processes:                                                                              |\n",
      "|  GPU   GI   CI        PID   Type   Process name                              GPU Memory |\n",
      "|        ID   ID                                                               Usage      |\n",
      "|=========================================================================================|\n",
      "|    0   N/A  N/A      3508    C+G   ...Programs\\Microsoft VS Code\\Code.exe      N/A      |\n",
      "|    0   N/A  N/A      3528    C+G   ...cal\\Microsoft\\OneDrive\\OneDrive.exe      N/A      |\n",
      "|    0   N/A  N/A      5052    C+G   ...5n1h2txyewy\\ShellExperienceHost.exe      N/A      |\n",
      "|    0   N/A  N/A      5636    C+G   ...oogle\\Chrome\\Application\\chrome.exe      N/A      |\n",
      "|    0   N/A  N/A      6380    C+G   ...1.0_x64__w2gh52qy24etm\\Nahimic3.exe      N/A      |\n",
      "|    0   N/A  N/A      6580    C+G   ...t.LockApp_cw5n1h2txyewy\\LockApp.exe      N/A      |\n",
      "|    0   N/A  N/A     10256    C+G   ...20.0_x64__zpdnekdrzrea0\\Spotify.exe      N/A      |\n",
      "|    0   N/A  N/A     12536    C+G   ...CBS_cw5n1h2txyewy\\TextInputHost.exe      N/A      |\n",
      "|    0   N/A  N/A     13864    C+G   C:\\Windows\\System32\\NahimicSvc64.exe        N/A      |\n",
      "|    0   N/A  N/A     15824    C+G   ...nzyj5cx40ttqa\\iCloud\\iCloudHome.exe      N/A      |\n",
      "|    0   N/A  N/A     19200    C+G   ...yj5cx40ttqa\\iCloud\\iCloudPhotos.exe      N/A      |\n",
      "|    0   N/A  N/A     19556    C+G   C:\\Windows\\explorer.exe                     N/A      |\n",
      "|    0   N/A  N/A     20356    C+G   ...nt.CBS_cw5n1h2txyewy\\SearchHost.exe      N/A      |\n",
      "|    0   N/A  N/A     22584    C+G   ...2txyewy\\StartMenuExperienceHost.exe      N/A      |\n",
      "|    0   N/A  N/A     24360    C+G   ...crosoft\\Edge\\Application\\msedge.exe      N/A      |\n",
      "+-----------------------------------------------------------------------------------------+\n"
     ]
    }
   ],
   "source": [
    "!nvidia-smi"
   ]
  },
  {
   "cell_type": "code",
   "execution_count": 2,
   "metadata": {},
   "outputs": [
    {
     "name": "stdout",
     "output_type": "stream",
     "text": [
      "Requirement already satisfied: pypdf in d:\\softwares\\anaconda3\\envs\\pytorchgpu\\lib\\site-packages (from -r requirements.txt (line 1)) (4.3.1)\n",
      "Requirement already satisfied: transformers in d:\\softwares\\anaconda3\\envs\\pytorchgpu\\lib\\site-packages (from -r requirements.txt (line 2)) (4.37.2)\n",
      "Requirement already satisfied: einops in d:\\softwares\\anaconda3\\envs\\pytorchgpu\\lib\\site-packages (from -r requirements.txt (line 3)) (0.8.0)\n",
      "Requirement already satisfied: accelerate in d:\\softwares\\anaconda3\\envs\\pytorchgpu\\lib\\site-packages (from -r requirements.txt (line 4)) (0.27.2)\n",
      "Requirement already satisfied: bitsandbytes in d:\\softwares\\anaconda3\\envs\\pytorchgpu\\lib\\site-packages (from -r requirements.txt (line 5)) (0.42.0)\n",
      "Requirement already satisfied: langchain in d:\\softwares\\anaconda3\\envs\\pytorchgpu\\lib\\site-packages (from -r requirements.txt (line 6)) (0.2.12)\n",
      "Requirement already satisfied: sentence_transformers in d:\\softwares\\anaconda3\\envs\\pytorchgpu\\lib\\site-packages (from -r requirements.txt (line 7)) (2.6.1)\n",
      "Requirement already satisfied: llama-index==0.9.39 in d:\\softwares\\anaconda3\\envs\\pytorchgpu\\lib\\site-packages (from -r requirements.txt (line 8)) (0.9.39)\n",
      "Requirement already satisfied: python-dotenv in d:\\softwares\\anaconda3\\envs\\pytorchgpu\\lib\\site-packages (from -r requirements.txt (line 9)) (1.0.1)\n",
      "Requirement already satisfied: langchain-community in d:\\softwares\\anaconda3\\envs\\pytorchgpu\\lib\\site-packages (from -r requirements.txt (line 10)) (0.2.11)\n",
      "Requirement already satisfied: SQLAlchemy>=1.4.49 in d:\\softwares\\anaconda3\\envs\\pytorchgpu\\lib\\site-packages (from SQLAlchemy[asyncio]>=1.4.49->llama-index==0.9.39->-r requirements.txt (line 8)) (1.4.52)\n",
      "Requirement already satisfied: aiohttp<4.0.0,>=3.8.6 in d:\\softwares\\anaconda3\\envs\\pytorchgpu\\lib\\site-packages (from llama-index==0.9.39->-r requirements.txt (line 8)) (3.9.3)\n",
      "Requirement already satisfied: dataclasses-json in d:\\softwares\\anaconda3\\envs\\pytorchgpu\\lib\\site-packages (from llama-index==0.9.39->-r requirements.txt (line 8)) (0.6.7)\n",
      "Requirement already satisfied: deprecated>=1.2.9.3 in d:\\softwares\\anaconda3\\envs\\pytorchgpu\\lib\\site-packages (from llama-index==0.9.39->-r requirements.txt (line 8)) (1.2.14)\n",
      "Requirement already satisfied: fsspec>=2023.5.0 in d:\\softwares\\anaconda3\\envs\\pytorchgpu\\lib\\site-packages (from llama-index==0.9.39->-r requirements.txt (line 8)) (2023.10.0)\n",
      "Requirement already satisfied: httpx in d:\\softwares\\anaconda3\\envs\\pytorchgpu\\lib\\site-packages (from llama-index==0.9.39->-r requirements.txt (line 8)) (0.27.0)\n",
      "Requirement already satisfied: nest-asyncio<2.0.0,>=1.5.8 in d:\\softwares\\anaconda3\\envs\\pytorchgpu\\lib\\site-packages (from llama-index==0.9.39->-r requirements.txt (line 8)) (1.6.0)\n",
      "Requirement already satisfied: networkx>=3.0 in d:\\softwares\\anaconda3\\envs\\pytorchgpu\\lib\\site-packages (from llama-index==0.9.39->-r requirements.txt (line 8)) (3.2.1)\n",
      "Requirement already satisfied: nltk<4.0.0,>=3.8.1 in d:\\softwares\\anaconda3\\envs\\pytorchgpu\\lib\\site-packages (from llama-index==0.9.39->-r requirements.txt (line 8)) (3.8.1)\n",
      "Requirement already satisfied: numpy in d:\\softwares\\anaconda3\\envs\\pytorchgpu\\lib\\site-packages (from llama-index==0.9.39->-r requirements.txt (line 8)) (1.26.3)\n",
      "Requirement already satisfied: openai>=1.1.0 in d:\\softwares\\anaconda3\\envs\\pytorchgpu\\lib\\site-packages (from llama-index==0.9.39->-r requirements.txt (line 8)) (1.17.0)\n",
      "Requirement already satisfied: pandas in c:\\users\\akash\\appdata\\roaming\\python\\python311\\site-packages (from llama-index==0.9.39->-r requirements.txt (line 8)) (1.5.3)\n",
      "Requirement already satisfied: requests>=2.31.0 in d:\\softwares\\anaconda3\\envs\\pytorchgpu\\lib\\site-packages (from llama-index==0.9.39->-r requirements.txt (line 8)) (2.31.0)\n",
      "Requirement already satisfied: tenacity<9.0.0,>=8.2.0 in d:\\softwares\\anaconda3\\envs\\pytorchgpu\\lib\\site-packages (from llama-index==0.9.39->-r requirements.txt (line 8)) (8.2.3)\n",
      "Requirement already satisfied: tiktoken>=0.3.3 in d:\\softwares\\anaconda3\\envs\\pytorchgpu\\lib\\site-packages (from llama-index==0.9.39->-r requirements.txt (line 8)) (0.6.0)\n",
      "Requirement already satisfied: typing-extensions>=4.5.0 in d:\\softwares\\anaconda3\\envs\\pytorchgpu\\lib\\site-packages (from llama-index==0.9.39->-r requirements.txt (line 8)) (4.11.0)\n",
      "Requirement already satisfied: typing-inspect>=0.8.0 in d:\\softwares\\anaconda3\\envs\\pytorchgpu\\lib\\site-packages (from llama-index==0.9.39->-r requirements.txt (line 8)) (0.9.0)\n",
      "Requirement already satisfied: filelock in d:\\softwares\\anaconda3\\envs\\pytorchgpu\\lib\\site-packages (from transformers->-r requirements.txt (line 2)) (3.13.1)\n",
      "Requirement already satisfied: huggingface-hub<1.0,>=0.19.3 in d:\\softwares\\anaconda3\\envs\\pytorchgpu\\lib\\site-packages (from transformers->-r requirements.txt (line 2)) (0.20.3)\n",
      "Requirement already satisfied: packaging>=20.0 in d:\\softwares\\anaconda3\\envs\\pytorchgpu\\lib\\site-packages (from transformers->-r requirements.txt (line 2)) (24.1)\n",
      "Requirement already satisfied: pyyaml>=5.1 in d:\\softwares\\anaconda3\\envs\\pytorchgpu\\lib\\site-packages (from transformers->-r requirements.txt (line 2)) (6.0.1)\n",
      "Requirement already satisfied: regex!=2019.12.17 in d:\\softwares\\anaconda3\\envs\\pytorchgpu\\lib\\site-packages (from transformers->-r requirements.txt (line 2)) (2023.12.25)\n",
      "Requirement already satisfied: tokenizers<0.19,>=0.14 in d:\\softwares\\anaconda3\\envs\\pytorchgpu\\lib\\site-packages (from transformers->-r requirements.txt (line 2)) (0.15.2)\n",
      "Requirement already satisfied: safetensors>=0.4.1 in d:\\softwares\\anaconda3\\envs\\pytorchgpu\\lib\\site-packages (from transformers->-r requirements.txt (line 2)) (0.4.2)\n",
      "Requirement already satisfied: tqdm>=4.27 in d:\\softwares\\anaconda3\\envs\\pytorchgpu\\lib\\site-packages (from transformers->-r requirements.txt (line 2)) (4.65.0)\n",
      "Requirement already satisfied: psutil in d:\\softwares\\anaconda3\\envs\\pytorchgpu\\lib\\site-packages (from accelerate->-r requirements.txt (line 4)) (5.9.0)\n",
      "Requirement already satisfied: torch>=1.10.0 in d:\\softwares\\anaconda3\\envs\\pytorchgpu\\lib\\site-packages (from accelerate->-r requirements.txt (line 4)) (2.2.1+cu118)\n",
      "Requirement already satisfied: scipy in c:\\users\\akash\\appdata\\roaming\\python\\python311\\site-packages (from bitsandbytes->-r requirements.txt (line 5)) (1.13.1)\n",
      "Requirement already satisfied: langchain-core<0.3.0,>=0.2.27 in d:\\softwares\\anaconda3\\envs\\pytorchgpu\\lib\\site-packages (from langchain->-r requirements.txt (line 6)) (0.2.29)\n",
      "Requirement already satisfied: langchain-text-splitters<0.3.0,>=0.2.0 in d:\\softwares\\anaconda3\\envs\\pytorchgpu\\lib\\site-packages (from langchain->-r requirements.txt (line 6)) (0.2.2)\n",
      "Requirement already satisfied: langsmith<0.2.0,>=0.1.17 in d:\\softwares\\anaconda3\\envs\\pytorchgpu\\lib\\site-packages (from langchain->-r requirements.txt (line 6)) (0.1.98)\n",
      "Requirement already satisfied: pydantic<3,>=1 in d:\\softwares\\anaconda3\\envs\\pytorchgpu\\lib\\site-packages (from langchain->-r requirements.txt (line 6)) (2.7.0)\n",
      "Requirement already satisfied: scikit-learn in c:\\users\\akash\\appdata\\roaming\\python\\python311\\site-packages (from sentence_transformers->-r requirements.txt (line 7)) (1.2.2)\n",
      "Requirement already satisfied: Pillow in c:\\users\\akash\\appdata\\roaming\\python\\python311\\site-packages (from sentence_transformers->-r requirements.txt (line 7)) (10.3.0)\n",
      "Requirement already satisfied: aiosignal>=1.1.2 in d:\\softwares\\anaconda3\\envs\\pytorchgpu\\lib\\site-packages (from aiohttp<4.0.0,>=3.8.6->llama-index==0.9.39->-r requirements.txt (line 8)) (1.3.1)\n",
      "Requirement already satisfied: attrs>=17.3.0 in d:\\softwares\\anaconda3\\envs\\pytorchgpu\\lib\\site-packages (from aiohttp<4.0.0,>=3.8.6->llama-index==0.9.39->-r requirements.txt (line 8)) (23.1.0)\n",
      "Requirement already satisfied: frozenlist>=1.1.1 in d:\\softwares\\anaconda3\\envs\\pytorchgpu\\lib\\site-packages (from aiohttp<4.0.0,>=3.8.6->llama-index==0.9.39->-r requirements.txt (line 8)) (1.4.1)\n",
      "Requirement already satisfied: multidict<7.0,>=4.5 in d:\\softwares\\anaconda3\\envs\\pytorchgpu\\lib\\site-packages (from aiohttp<4.0.0,>=3.8.6->llama-index==0.9.39->-r requirements.txt (line 8)) (6.0.5)\n",
      "Requirement already satisfied: yarl<2.0,>=1.0 in d:\\softwares\\anaconda3\\envs\\pytorchgpu\\lib\\site-packages (from aiohttp<4.0.0,>=3.8.6->llama-index==0.9.39->-r requirements.txt (line 8)) (1.9.4)\n",
      "Requirement already satisfied: marshmallow<4.0.0,>=3.18.0 in d:\\softwares\\anaconda3\\envs\\pytorchgpu\\lib\\site-packages (from dataclasses-json->llama-index==0.9.39->-r requirements.txt (line 8)) (3.21.3)\n",
      "Requirement already satisfied: wrapt<2,>=1.10 in c:\\users\\akash\\appdata\\roaming\\python\\python311\\site-packages (from deprecated>=1.2.9.3->llama-index==0.9.39->-r requirements.txt (line 8)) (1.14.1)\n",
      "Requirement already satisfied: jsonpatch<2.0,>=1.33 in d:\\softwares\\anaconda3\\envs\\pytorchgpu\\lib\\site-packages (from langchain-core<0.3.0,>=0.2.27->langchain->-r requirements.txt (line 6)) (1.33)\n",
      "Requirement already satisfied: orjson<4.0.0,>=3.9.14 in d:\\softwares\\anaconda3\\envs\\pytorchgpu\\lib\\site-packages (from langsmith<0.2.0,>=0.1.17->langchain->-r requirements.txt (line 6)) (3.9.15)\n",
      "Requirement already satisfied: click in d:\\softwares\\anaconda3\\envs\\pytorchgpu\\lib\\site-packages (from nltk<4.0.0,>=3.8.1->llama-index==0.9.39->-r requirements.txt (line 8)) (8.1.7)\n",
      "Requirement already satisfied: joblib in c:\\users\\akash\\appdata\\roaming\\python\\python311\\site-packages (from nltk<4.0.0,>=3.8.1->llama-index==0.9.39->-r requirements.txt (line 8)) (1.4.2)\n",
      "Requirement already satisfied: anyio<5,>=3.5.0 in d:\\softwares\\anaconda3\\envs\\pytorchgpu\\lib\\site-packages (from openai>=1.1.0->llama-index==0.9.39->-r requirements.txt (line 8)) (4.2.0)\n",
      "Requirement already satisfied: distro<2,>=1.7.0 in d:\\softwares\\anaconda3\\envs\\pytorchgpu\\lib\\site-packages (from openai>=1.1.0->llama-index==0.9.39->-r requirements.txt (line 8)) (1.9.0)\n",
      "Requirement already satisfied: sniffio in d:\\softwares\\anaconda3\\envs\\pytorchgpu\\lib\\site-packages (from openai>=1.1.0->llama-index==0.9.39->-r requirements.txt (line 8)) (1.3.0)\n",
      "Requirement already satisfied: certifi in d:\\softwares\\anaconda3\\envs\\pytorchgpu\\lib\\site-packages (from httpx->llama-index==0.9.39->-r requirements.txt (line 8)) (2024.2.2)\n",
      "Requirement already satisfied: httpcore==1.* in d:\\softwares\\anaconda3\\envs\\pytorchgpu\\lib\\site-packages (from httpx->llama-index==0.9.39->-r requirements.txt (line 8)) (1.0.4)\n",
      "Requirement already satisfied: idna in d:\\softwares\\anaconda3\\envs\\pytorchgpu\\lib\\site-packages (from httpx->llama-index==0.9.39->-r requirements.txt (line 8)) (3.4)\n",
      "Requirement already satisfied: h11<0.15,>=0.13 in d:\\softwares\\anaconda3\\envs\\pytorchgpu\\lib\\site-packages (from httpcore==1.*->httpx->llama-index==0.9.39->-r requirements.txt (line 8)) (0.14.0)\n",
      "Requirement already satisfied: annotated-types>=0.4.0 in d:\\softwares\\anaconda3\\envs\\pytorchgpu\\lib\\site-packages (from pydantic<3,>=1->langchain->-r requirements.txt (line 6)) (0.6.0)\n",
      "Requirement already satisfied: pydantic-core==2.18.1 in d:\\softwares\\anaconda3\\envs\\pytorchgpu\\lib\\site-packages (from pydantic<3,>=1->langchain->-r requirements.txt (line 6)) (2.18.1)\n",
      "Requirement already satisfied: charset-normalizer<4,>=2 in d:\\softwares\\anaconda3\\envs\\pytorchgpu\\lib\\site-packages (from requests>=2.31.0->llama-index==0.9.39->-r requirements.txt (line 8)) (2.0.4)\n",
      "Requirement already satisfied: urllib3<3,>=1.21.1 in d:\\softwares\\anaconda3\\envs\\pytorchgpu\\lib\\site-packages (from requests>=2.31.0->llama-index==0.9.39->-r requirements.txt (line 8)) (2.1.0)\n",
      "Requirement already satisfied: greenlet!=0.4.17 in d:\\softwares\\anaconda3\\envs\\pytorchgpu\\lib\\site-packages (from SQLAlchemy>=1.4.49->SQLAlchemy[asyncio]>=1.4.49->llama-index==0.9.39->-r requirements.txt (line 8)) (3.0.3)\n",
      "Requirement already satisfied: sympy in d:\\softwares\\anaconda3\\envs\\pytorchgpu\\lib\\site-packages (from torch>=1.10.0->accelerate->-r requirements.txt (line 4)) (1.12)\n",
      "Requirement already satisfied: jinja2 in d:\\softwares\\anaconda3\\envs\\pytorchgpu\\lib\\site-packages (from torch>=1.10.0->accelerate->-r requirements.txt (line 4)) (3.1.2)\n",
      "Requirement already satisfied: colorama in d:\\softwares\\anaconda3\\envs\\pytorchgpu\\lib\\site-packages (from tqdm>=4.27->transformers->-r requirements.txt (line 2)) (0.4.6)\n",
      "Requirement already satisfied: mypy-extensions>=0.3.0 in d:\\softwares\\anaconda3\\envs\\pytorchgpu\\lib\\site-packages (from typing-inspect>=0.8.0->llama-index==0.9.39->-r requirements.txt (line 8)) (1.0.0)\n",
      "Requirement already satisfied: python-dateutil>=2.8.1 in d:\\softwares\\anaconda3\\envs\\pytorchgpu\\lib\\site-packages (from pandas->llama-index==0.9.39->-r requirements.txt (line 8)) (2.8.2)\n",
      "Requirement already satisfied: pytz>=2020.1 in d:\\softwares\\anaconda3\\envs\\pytorchgpu\\lib\\site-packages (from pandas->llama-index==0.9.39->-r requirements.txt (line 8)) (2023.3.post1)\n",
      "Requirement already satisfied: threadpoolctl>=2.0.0 in c:\\users\\akash\\appdata\\roaming\\python\\python311\\site-packages (from scikit-learn->sentence_transformers->-r requirements.txt (line 7)) (3.5.0)\n",
      "Requirement already satisfied: jsonpointer>=1.9 in d:\\softwares\\anaconda3\\envs\\pytorchgpu\\lib\\site-packages (from jsonpatch<2.0,>=1.33->langchain-core<0.3.0,>=0.2.27->langchain->-r requirements.txt (line 6)) (2.4)\n",
      "Requirement already satisfied: six>=1.5 in d:\\softwares\\anaconda3\\envs\\pytorchgpu\\lib\\site-packages (from python-dateutil>=2.8.1->pandas->llama-index==0.9.39->-r requirements.txt (line 8)) (1.16.0)\n",
      "Requirement already satisfied: MarkupSafe>=2.0 in d:\\softwares\\anaconda3\\envs\\pytorchgpu\\lib\\site-packages (from jinja2->torch>=1.10.0->accelerate->-r requirements.txt (line 4)) (2.1.3)\n",
      "Requirement already satisfied: mpmath>=0.19 in d:\\softwares\\anaconda3\\envs\\pytorchgpu\\lib\\site-packages (from sympy->torch>=1.10.0->accelerate->-r requirements.txt (line 4)) (1.3.0)\n"
     ]
    }
   ],
   "source": [
    "!pip install -r requirements.txt"
   ]
  },
  {
   "cell_type": "code",
   "execution_count": 3,
   "metadata": {},
   "outputs": [],
   "source": [
    "from llama_index import VectorStoreIndex, SimpleDirectoryReader, ServiceContext\n",
    "from llama_index.llms import HuggingFaceLLM, HuggingFaceInferenceAPI\n",
    "from llama_index.prompts.prompts import SimpleInputPrompt\n",
    "import os"
   ]
  },
  {
   "cell_type": "code",
   "execution_count": 4,
   "metadata": {},
   "outputs": [],
   "source": [
    "documents = SimpleDirectoryReader(\"D:\\PracticeProjects\\RAG_LLAMA_INDEX\\Data\").load_data()"
   ]
  },
  {
   "cell_type": "code",
   "execution_count": 5,
   "metadata": {},
   "outputs": [
    {
     "data": {
      "text/plain": [
       "[Document(id_='c365c015-2b34-4905-895d-6562345be462', embedding=None, metadata={'page_label': '1', 'file_name': 'life_insurance_guide.pdf', 'file_path': 'D:\\\\PracticeProjects\\\\RAG_LLAMA_INDEX\\\\Data\\\\life_insurance_guide.pdf', 'file_type': 'application/pdf', 'file_size': 1031179, 'creation_date': '2024-08-08', 'last_modified_date': '2024-08-08', 'last_accessed_date': '2024-08-09'}, excluded_embed_metadata_keys=['file_name', 'file_type', 'file_size', 'creation_date', 'last_modified_date', 'last_accessed_date'], excluded_llm_metadata_keys=['file_name', 'file_type', 'file_size', 'creation_date', 'last_modified_date', 'last_accessed_date'], relationships={}, text='A consumer’s guide to:\\nLife\\nInsurance \\nWhat you should know about shopping  \\nfor life insurance\\n', start_char_idx=None, end_char_idx=None, text_template='{metadata_str}\\n\\n{content}', metadata_template='{key}: {value}', metadata_seperator='\\n'),\n",
       " Document(id_='cd86c6a2-d98e-424a-b50f-efe7e5aec720', embedding=None, metadata={'page_label': '2', 'file_name': 'life_insurance_guide.pdf', 'file_path': 'D:\\\\PracticeProjects\\\\RAG_LLAMA_INDEX\\\\Data\\\\life_insurance_guide.pdf', 'file_type': 'application/pdf', 'file_size': 1031179, 'creation_date': '2024-08-08', 'last_modified_date': '2024-08-08', 'last_accessed_date': '2024-08-09'}, excluded_embed_metadata_keys=['file_name', 'file_type', 'file_size', 'creation_date', 'last_modified_date', 'last_accessed_date'], excluded_llm_metadata_keys=['file_name', 'file_type', 'file_size', 'creation_date', 'last_modified_date', 'last_accessed_date'], relationships={}, text='Washington State Office of the Insurance Commissioner', start_char_idx=None, end_char_idx=None, text_template='{metadata_str}\\n\\n{content}', metadata_template='{key}: {value}', metadata_seperator='\\n'),\n",
       " Document(id_='cd8f1404-749b-4eb9-be4b-3cafafb67ab4', embedding=None, metadata={'page_label': '3', 'file_name': 'life_insurance_guide.pdf', 'file_path': 'D:\\\\PracticeProjects\\\\RAG_LLAMA_INDEX\\\\Data\\\\life_insurance_guide.pdf', 'file_type': 'application/pdf', 'file_size': 1031179, 'creation_date': '2024-08-08', 'last_modified_date': '2024-08-08', 'last_accessed_date': '2024-08-09'}, excluded_embed_metadata_keys=['file_name', 'file_type', 'file_size', 'creation_date', 'last_modified_date', 'last_accessed_date'], excluded_llm_metadata_keys=['file_name', 'file_type', 'file_size', 'creation_date', 'last_modified_date', 'last_accessed_date'], relationships={}, text='Washington State Office of the Insurance CommissionerTable of Contents\\nA consumer’s guide to life insurance      1\\nDeciding how much life insurance to buy      2\\nInsurance shopping tips        2\\nHow to buy life insurance        3\\nWhat to do if a company turns you down      4\\nWhat you should know about your insurance company    5\\nWhat you should know about life insurance premiums    6\\nWhat you should know about life insurance policies    6\\nOther life insurance policy options       9\\nOptional policy benefits        11\\nWhat you should know about trading in policies     11\\nWhat you should know about death claims     12\\nOptions for seriously ill people       13\\nTop 10 life insurance cautions       14', start_char_idx=None, end_char_idx=None, text_template='{metadata_str}\\n\\n{content}', metadata_template='{key}: {value}', metadata_seperator='\\n'),\n",
       " Document(id_='0e4689b2-a91f-4dc9-a47c-99ac3083d824', embedding=None, metadata={'page_label': '1', 'file_name': 'life_insurance_guide.pdf', 'file_path': 'D:\\\\PracticeProjects\\\\RAG_LLAMA_INDEX\\\\Data\\\\life_insurance_guide.pdf', 'file_type': 'application/pdf', 'file_size': 1031179, 'creation_date': '2024-08-08', 'last_modified_date': '2024-08-08', 'last_accessed_date': '2024-08-09'}, excluded_embed_metadata_keys=['file_name', 'file_type', 'file_size', 'creation_date', 'last_modified_date', 'last_accessed_date'], excluded_llm_metadata_keys=['file_name', 'file_type', 'file_size', 'creation_date', 'last_modified_date', 'last_accessed_date'], relationships={}, text='1\\nWashington State Office of the Insurance CommissionerA consumer’s guide to life insurance\\nYou can obtain life insurance policies through agents or brokers, by mail, via the Inter -\\nnet, or through group plans offered by your employer or an association.\\nNo matter how you buy your life insurance, you should only buy from a licensed com -\\npany that offers policies approved in Washington state.To protect you, the Office of the Insurance Commissioner (OIC) regulates all insurance \\ntransactions that take place in Washington state.  To operate in our state, insurance \\ncompanies must be licensed with our agency.  Insurance companies must also file their policies with us.\\nIn addition to our protections, state law created the Washington Life and Disability \\nGuaranty Association.  The association protects policyholders when insurance compa\\n-\\nnies become unable to pay claims.  \\nTo find out if a company is licensed in our state, call our Insurance Consumer Hotline at \\n1-800-562-6900 .  You can also look the company up on our website at:  \\nwww.insurance.wa.gov.  ', start_char_idx=None, end_char_idx=None, text_template='{metadata_str}\\n\\n{content}', metadata_template='{key}: {value}', metadata_seperator='\\n'),\n",
       " Document(id_='7e0c6ed4-57f6-4dc4-983f-cf30057551ec', embedding=None, metadata={'page_label': '2', 'file_name': 'life_insurance_guide.pdf', 'file_path': 'D:\\\\PracticeProjects\\\\RAG_LLAMA_INDEX\\\\Data\\\\life_insurance_guide.pdf', 'file_type': 'application/pdf', 'file_size': 1031179, 'creation_date': '2024-08-08', 'last_modified_date': '2024-08-08', 'last_accessed_date': '2024-08-09'}, excluded_embed_metadata_keys=['file_name', 'file_type', 'file_size', 'creation_date', 'last_modified_date', 'last_accessed_date'], excluded_llm_metadata_keys=['file_name', 'file_type', 'file_size', 'creation_date', 'last_modified_date', 'last_accessed_date'], relationships={}, text='2\\nWashington State Office of the Insurance CommissionerDeciding how much insurance to buy\\nYou should decide how much life insurance you need.  You need to look carefully at \\nyour individual circumstances.  The real value of life insurance is to protect your loved \\nones after your death.  Before you buy, ask yourself:\\n• What costs and hardships will my family have to deal with after I am gone?  • How will the loss of my salary affect my family?These questions require careful thought and perhaps a candid talk with your \\nbeneficiaries.\\nInsurance shopping tips\\nFirst, set the goals you want.  Then shop around.  The cost of insurance varies from \\ncompany to company—as do their services, standards, and policies.  \\nResearch the policy carefully to make sure it meets your needs.  Once you decide to \\nbuy life insurance, don’t delay! Make the purchase. Your beneficiaries will not benefit unless you buy a policy. Also, if you wait, you could develop a health problem, which \\ncould cause the rates to go up, or the company could reject your application.\\nThe company must provide you with a buyer’s guide and a policy summary before they \\ngive you the policy.  If you do not receive these two items, ask for them. \\nThe “free look” rule\\n• When you receive your new policy, read it carefully.\\n• Every new life insurance policy issued in Washington state comes with a 10-\\nday “free look” period. \\n• If you are not satisfied for any reason, you may return the new policy within \\n10 days after you receive it.  \\n• Mail it to the company’s home office or give it back to the agent who sold it \\nto you.  \\n• Be sure to get a dated receipt from the post office or the agent.  \\n• The company must return your premium within 30 days from the date \\nyou returned the policy.  If they keep your money longer, legally they are \\nresponsible for a 10 percent penalty—payable to you.', start_char_idx=None, end_char_idx=None, text_template='{metadata_str}\\n\\n{content}', metadata_template='{key}: {value}', metadata_seperator='\\n'),\n",
       " Document(id_='e15d7aea-0b56-4075-85e4-9b16f82ec1dd', embedding=None, metadata={'page_label': '3', 'file_name': 'life_insurance_guide.pdf', 'file_path': 'D:\\\\PracticeProjects\\\\RAG_LLAMA_INDEX\\\\Data\\\\life_insurance_guide.pdf', 'file_type': 'application/pdf', 'file_size': 1031179, 'creation_date': '2024-08-08', 'last_modified_date': '2024-08-08', 'last_accessed_date': '2024-08-09'}, excluded_embed_metadata_keys=['file_name', 'file_type', 'file_size', 'creation_date', 'last_modified_date', 'last_accessed_date'], excluded_llm_metadata_keys=['file_name', 'file_type', 'file_size', 'creation_date', 'last_modified_date', 'last_accessed_date'], relationships={}, text='3\\nWashington State Office of the Insurance CommissionerHow to buy life insurance\\nMail order \\nA few insurance companies sell through the mail.  You mail a completed application \\ndirectly to the company.  The company usually does not have an agent in your \\nhometown.  \\nThe Internet \\nA growing number of insurance companies are expanding their marketing and are \\nstarting to sell policies on the Web.  All state laws and regulations regarding selling \\ninsurance apply to the Internet and insurance-based Web sites.  Do your research and \\nmake sure the company is authorized to do business in Washington state. If you have \\nquestions, call our Insurance Consumer Hotline at 1-800-562-6900 .\\nAgents and brokers \\nMost people buy life insurance through an agent or broker.  Agents and brokers \\noperate differently. \\nAgents represent one or more companies.  The agent’s job, which is commission based, is to sell you the policies of the company he or she represents.  \\nBrokers  represent and work for you.  Typically, you describe to the broker the \\ntype of coverage you want and the amount you want to spend.  The broker \\nsurveys the market and brings back options for you to review.   Brokers also \\nreceive a commission on the sales they arrange.\\nChoose your agent or broker carefully.  It is wise to select someone who is an \\nestablished business person in your community.  You may wish to ask, “What makes \\nyou feel you are qualified to talk to me about my financial security?”  Reliable \\nsalespeople should not mind verifying their credentials or listing their qualifications.\\nIf you have concerns about an insurance provider or a sales offer, contact our \\nInsurance Consumer Hotline at \\n1-800-562-6900 .', start_char_idx=None, end_char_idx=None, text_template='{metadata_str}\\n\\n{content}', metadata_template='{key}: {value}', metadata_seperator='\\n'),\n",
       " Document(id_='79ad553b-d1a8-4648-94a5-a114ef09e1ee', embedding=None, metadata={'page_label': '4', 'file_name': 'life_insurance_guide.pdf', 'file_path': 'D:\\\\PracticeProjects\\\\RAG_LLAMA_INDEX\\\\Data\\\\life_insurance_guide.pdf', 'file_type': 'application/pdf', 'file_size': 1031179, 'creation_date': '2024-08-08', 'last_modified_date': '2024-08-08', 'last_accessed_date': '2024-08-09'}, excluded_embed_metadata_keys=['file_name', 'file_type', 'file_size', 'creation_date', 'last_modified_date', 'last_accessed_date'], excluded_llm_metadata_keys=['file_name', 'file_type', 'file_size', 'creation_date', 'last_modified_date', 'last_accessed_date'], relationships={}, text='4\\nWashington State Office of the Insurance CommissionerWhat to do if a company turns    \\nyou down\\nIf a company turns you down for a policy, try another company. Companies use differ -\\nent methods and factors to decide whether or not to insure you.  For example if you \\nhave high blood pressure that you control with medication, one company might reject \\nyou while another company may accept you.  \\nIf you have a medical problem, it’s a good idea to talk it over with your doctor.  Treat -\\nments may improve your condition enough to meet company standards, or the compa -\\nny may qualify you as a special risk at an adjusted premium.  If the company uses your \\nmedical information to arrive at its rating, it must share that information with your \\ndoctor at your request. \\nYou might also want to check on group life insurance.  Some group plans do not require \\nmedical exams or health histories.\\nInsurance companies are part of the free enterprise system and can – within certain \\nlimits – select those individuals they want to insure.  However, they are not free to turn down coverage without a valid reason.  Under Washington state law, insurers cannot  \\nrefuse insurance to anyone based on:\\n• Sex\\n• Marital status\\n• Race\\n• Creed• Color\\n• National origin  \\nIt’s also against the law to deny coverage to domestic violence victims.  And it’s illegal \\nto refuse people with a sensory, mental, or physical problem – except when the \\ncompany can prove statistically that someone is more likely to file a claim. \\nIf you feel an insurance company is treating you unfairly, you can file a complaint with \\nour agency by calling \\n1-800-562-6900 .  We will look into the issue on your behalf.  ', start_char_idx=None, end_char_idx=None, text_template='{metadata_str}\\n\\n{content}', metadata_template='{key}: {value}', metadata_seperator='\\n'),\n",
       " Document(id_='7623b478-2556-435c-b54c-46bf4a55a550', embedding=None, metadata={'page_label': '5', 'file_name': 'life_insurance_guide.pdf', 'file_path': 'D:\\\\PracticeProjects\\\\RAG_LLAMA_INDEX\\\\Data\\\\life_insurance_guide.pdf', 'file_type': 'application/pdf', 'file_size': 1031179, 'creation_date': '2024-08-08', 'last_modified_date': '2024-08-08', 'last_accessed_date': '2024-08-09'}, excluded_embed_metadata_keys=['file_name', 'file_type', 'file_size', 'creation_date', 'last_modified_date', 'last_accessed_date'], excluded_llm_metadata_keys=['file_name', 'file_type', 'file_size', 'creation_date', 'last_modified_date', 'last_accessed_date'], relationships={}, text='5\\nWashington State Office of the Insurance CommissionerWhat you should know about your \\ninsurance company\\nDifferent companies offer different products.  Some companies work with agents you \\ncan find in the phone book.  Other companies prefer to deal directly with you. \\nOne other key item you should think about before you buy is the financial security of \\nthe insurance company.  As with most businesses, the security of a company depends on how it is managed, supervised, and controlled.\\nRating your insurance company  \\nOne way to find out about your insurance company is to check its security rating.  Several independent rating organizations monitor the financial strength of insurance \\ncompanies. They also offer free rating information by phone and on the Web. These \\nrating organizations include:  \\n• A.M. Best Co., publisher of “Best Insurance Reports”\\n  \\n908-439-2200, www.ambest.com \\n• Moody’s Investor Service, Inc.  \\n 212-553-0377, www.moodys.com \\n• Standard & Poor’s\\n 1-800-523-4534, www.standardandpoor.com \\n• Fitch Ratings, Inc.\\n 1-800-893-4824 , www.fitchratings.com \\n• Weiss Research \\n1-800-289-9222. www.weissratings.com \\nBe aware that each organization uses its own criteria to determine financial ratings.  \\nEven though all use some form of “A,” “B,” or “C” grading system, what is “AAA” for \\none might be “A+” or “A-“ for another.  ', start_char_idx=None, end_char_idx=None, text_template='{metadata_str}\\n\\n{content}', metadata_template='{key}: {value}', metadata_seperator='\\n'),\n",
       " Document(id_='63bf687f-2f02-47c1-9328-63c5a9726bf8', embedding=None, metadata={'page_label': '6', 'file_name': 'life_insurance_guide.pdf', 'file_path': 'D:\\\\PracticeProjects\\\\RAG_LLAMA_INDEX\\\\Data\\\\life_insurance_guide.pdf', 'file_type': 'application/pdf', 'file_size': 1031179, 'creation_date': '2024-08-08', 'last_modified_date': '2024-08-08', 'last_accessed_date': '2024-08-09'}, excluded_embed_metadata_keys=['file_name', 'file_type', 'file_size', 'creation_date', 'last_modified_date', 'last_accessed_date'], excluded_llm_metadata_keys=['file_name', 'file_type', 'file_size', 'creation_date', 'last_modified_date', 'last_accessed_date'], relationships={}, text='6\\nWashington State Office of the Insurance CommissionerWhat you should know about life \\ninsurance premiums\\nPremiums are the dollar amount you pay into a life insurance policy. Depending on \\nyour arrangement with the insurance company, you can pay premiums on a monthly \\nbasis or less often. All policies must contain a 31-day grace period for late payments. \\nThis means if you are late paying your premium, your policy still stays in effect for 31 \\ndays, until you pay your premium.  \\nFor group life insurance, employers can deduct your premiums with your permission \\nfrom your paycheck.                                                               \\nInsurers base your life insurance premium on several factors:\\n• Gender\\n• Health problems• Occupation\\n• Hobbies\\n• Habits• Other circumstances that may reduce your life span, such as a bad driving record \\nor participating in dangerous activities\\n• Expenses the company expects to pay regarding your coverage, such as sales \\ncharges, and underwriting and administration costs\\n• Interest the company expects to earn from investing your premiums\\nWhat you should know about life \\ninsurance policies\\nA life insurance policy is a legal contract between you and the insurance company.  \\nThis contract spells out:\\n• The rights and duties of you and the company\\n• How much and how often you pay• The benefits you are entitled to receive \\n• The circumstances under which the policy will pay benefits\\nThe best insurance policy is the one that best fits your needs.  However, what is best \\nfor you right now, may not suit your situation 10 years from now.  This means you \\nshould review your coverage regularly, even on an annual basis to make sure your \\ncoverage is current.', start_char_idx=None, end_char_idx=None, text_template='{metadata_str}\\n\\n{content}', metadata_template='{key}: {value}', metadata_seperator='\\n'),\n",
       " Document(id_='2f81db42-3092-4397-99f7-b6d1ca6feabe', embedding=None, metadata={'page_label': '7', 'file_name': 'life_insurance_guide.pdf', 'file_path': 'D:\\\\PracticeProjects\\\\RAG_LLAMA_INDEX\\\\Data\\\\life_insurance_guide.pdf', 'file_type': 'application/pdf', 'file_size': 1031179, 'creation_date': '2024-08-08', 'last_modified_date': '2024-08-08', 'last_accessed_date': '2024-08-09'}, excluded_embed_metadata_keys=['file_name', 'file_type', 'file_size', 'creation_date', 'last_modified_date', 'last_accessed_date'], excluded_llm_metadata_keys=['file_name', 'file_type', 'file_size', 'creation_date', 'last_modified_date', 'last_accessed_date'], relationships={}, text='7\\nWashington State Office of the Insurance CommissionerTerm life and cash value life insurance    \\nTerm and cash value insurance are the two basic types of life insurance that \\ncompanies offer in various forms.\\nTerm insurance  \\nTerm insurance gets its name because it protects you for a specific “term”—usually \\na year or a limited number of years.  You have to pay more for it as you get older \\nbecause your risk of dying increases with age.  Term insurance does not have a cash \\nvalue and you cannot cash it in.  Once the term ends, the policy no longer covers you.  If the policy is renewable, you may buy it for another term at a rate guaranteed in \\nthe policy, without providing health information and some other proof of insurability, \\nsuch as a driving record.  However, the renewed policy will usually cost more. Over \\ntime, it may be too costly to renew.\\nTerm insurance is well suited to fill a temporary need for increased insurance.  If you \\nleave one job for another, you may not have group life insurance coverage through \\nyour employer for a short time.  Term insurance offers an easy purchase to bridge \\nsuch a gap.  It is also provides you with an option to quickly supplement an existing \\nwhole life policy with additional coverage.\\nCash value life\\nFor this type of insurance, you pay higher premiums at the beginning of the policy. \\nThe company uses part of your premium to set up an account under your policy with a cash value that you may use in a variety of ways. For example: \\n• You may borrow against a policy’s cash value by taking out a loan. If you don’t \\npay back the loan and the interest on it, the company will subtract the amount \\nyou owe from the benefits when you die. If you cancel the policy, the company \\nwill also subtract the loan balance from the cash value you receive \\n• You can use the cash value to pay an overdue premium on the policy\\n• You can use the cash value to increase your income in retirement or to provide \\nfor other financial needs. However, to build up this cash value, you must pay \\nhigher premiums in the early years of the policy \\nWhole life, universal life and variable life \\nThese are all considered types of cash value insurance.  For whole life and universal life, the life insurance company invests your cash value as a general asset of the \\ncompany.  The interest the company credits to your cash value is based on its \\nearnings.          ', start_char_idx=None, end_char_idx=None, text_template='{metadata_str}\\n\\n{content}', metadata_template='{key}: {value}', metadata_seperator='\\n'),\n",
       " Document(id_='b9aff240-e6bc-4da8-b813-b1541bde7bdf', embedding=None, metadata={'page_label': '8', 'file_name': 'life_insurance_guide.pdf', 'file_path': 'D:\\\\PracticeProjects\\\\RAG_LLAMA_INDEX\\\\Data\\\\life_insurance_guide.pdf', 'file_type': 'application/pdf', 'file_size': 1031179, 'creation_date': '2024-08-08', 'last_modified_date': '2024-08-08', 'last_accessed_date': '2024-08-09'}, excluded_embed_metadata_keys=['file_name', 'file_type', 'file_size', 'creation_date', 'last_modified_date', 'last_accessed_date'], excluded_llm_metadata_keys=['file_name', 'file_type', 'file_size', 'creation_date', 'last_modified_date', 'last_accessed_date'], relationships={}, text='8\\nWashington State Office of the Insurance CommissionerWhole life\\nThis is the traditional form of cash value life insurance.  Also referred to as “ordinary \\nlife” or “straight life,” whole life insurance provides coverage for your entire lifetime.  \\nThe premium depends on your age at the time you buy and stays the same as you \\ngrow older.  The lowest premiums go to those who buy it when they are young, \\nbecause they will pay into it the longest. Your cash value grows based on a fixed \\ninterest rate set each year in your policy by the company. \\nSome whole life policies let you pay premiums for a shorter time, such as 15 years, \\nor until you reach age 65. Premiums for these policies are higher because you make \\npremium payments during a short time frame.     \\nUniversal life  \\nThis is a type of flexible cash value policy that lets you vary your premium payments. You can also make limited adjustments in the death benefit amount of your policy. The \\ncompany credits the premium you pay to a policy account that earns interest.   The \\ncompany then deducts the expense charges from the account. If your yearly premiums \\nplus the interest the company credits to your account is greater than the cost of the \\ninsurance, your account will grow.  However, if your premiums and interest earnings \\nare less than the cost of insurance, your account will decrease. If your account keeps \\ndropping, your coverage will end. To prevent this, you can increase your premium payments or lower the death benefits. \\nVariable life \\nAs with universal life, the death benefit and cash values of variable life insurance vary.  With variable life, the company invests your cash values into separate investment \\naccounts, such as portfolios of stocks, bonds, and other investments. These separate \\naccounts are like mutual funds. The company should provide you with information \\n(also called a prospectus) that describes each separate account. Study the information \\ncarefully. As the policy owner, you choose the separate account to invest the cash \\nvalue.  The cash values and death benefit vary due to increases or decreases in the \\nvalue of the separate accounts. You take the investment risk as the policyholder in return for possible improved benefits.\\nLife insurance illustrations \\nFor most individual policies, cash values, death benefits, or premiums vary based on factors the company cannot guarantee (such as interest rates). Companies use \\ncomputer-generated illustrations, such as a table to show how policies perform over \\nthe years under given assumptions. The illustrations show how benefits that are not \\nguaranteed will change each year as interest rates and other factors change. The ', start_char_idx=None, end_char_idx=None, text_template='{metadata_str}\\n\\n{content}', metadata_template='{key}: {value}', metadata_seperator='\\n'),\n",
       " Document(id_='29f1abf9-c626-49c7-af3a-939c334d1d5c', embedding=None, metadata={'page_label': '9', 'file_name': 'life_insurance_guide.pdf', 'file_path': 'D:\\\\PracticeProjects\\\\RAG_LLAMA_INDEX\\\\Data\\\\life_insurance_guide.pdf', 'file_type': 'application/pdf', 'file_size': 1031179, 'creation_date': '2024-08-08', 'last_modified_date': '2024-08-08', 'last_accessed_date': '2024-08-09'}, excluded_embed_metadata_keys=['file_name', 'file_type', 'file_size', 'creation_date', 'last_modified_date', 'last_accessed_date'], excluded_llm_metadata_keys=['file_name', 'file_type', 'file_size', 'creation_date', 'last_modified_date', 'last_accessed_date'], relationships={}, text='9\\nWashington State Office of the Insurance Commissionerillustrations also show what the company actually guarantees and what could happen \\nin the future. Remember, no one knows what will happen in the future. If the policy \\ndoes not perform well, be prepared to adjust your financial plans. \\nYou should be aware that due to past sales abuse, companies cannot use the term \\n“vanishing premium” in life insurance illustrations.  Vanishing premiums imply that you \\nstart out making large premium payments for the first several years of your policy with \\nthe possibility of no payments later on. There is NO guarantee this will occur. \\nOther life insurance policy options\\nThe following are other popular types of life insurance:\\nGroup life insurance \\nTypically purchased one year at a time, group life insurance gives you very little control over the conditions of the coverage.  You buy group life through an association of \\nindividuals.  For example, an association of individuals affiliated with an employer, \\nlabor union or credit union.  In Washington state, if you leave a group life plan or your \\nemployer drops the plan, the law requires group life insurance to allow you to convert \\nto permanent whole life insurance coverage.  \\nThe advantages to group life include:\\n• Group life insurance may cost less than individually purchased life policies\\n• Employers may choose to subsidize part of the cost as a fringe benefit for their \\nemployees \\n• It usually doesn’t require a medical exam or health history\\nThe disadvantages to group life include:\\n• It does not typically guarantee premiums• It does not typically guarantee a renewable policy\\n• Group life coverage only applies to members of the group\\n• If you leave the group or drop your association membership, your coverage ends \\n— unless you convert the policy to private insurance at a higher cost\\nConvertible policies \\nThis type of policy starts out as term life insurance and then converts to a cash value \\nlife insurance policy.  Young people who want financial security for their new families, \\nbut cannot afford cash value life insurance, may choose a convertible term insurance \\npolicy.  These policies give you the option to convert your coverage to cash value life ', start_char_idx=None, end_char_idx=None, text_template='{metadata_str}\\n\\n{content}', metadata_template='{key}: {value}', metadata_seperator='\\n'),\n",
       " Document(id_='b48edb22-6740-494f-b5bb-4e7bb810d9dd', embedding=None, metadata={'page_label': '10', 'file_name': 'life_insurance_guide.pdf', 'file_path': 'D:\\\\PracticeProjects\\\\RAG_LLAMA_INDEX\\\\Data\\\\life_insurance_guide.pdf', 'file_type': 'application/pdf', 'file_size': 1031179, 'creation_date': '2024-08-08', 'last_modified_date': '2024-08-08', 'last_accessed_date': '2024-08-09'}, excluded_embed_metadata_keys=['file_name', 'file_type', 'file_size', 'creation_date', 'last_modified_date', 'last_accessed_date'], excluded_llm_metadata_keys=['file_name', 'file_type', 'file_size', 'creation_date', 'last_modified_date', 'last_accessed_date'], relationships={}, text='10\\nWashington State Office of the Insurance Commissionerinsurance for a limited time—without providing health information and some other \\nproof of insurability and at the insurer’s current premium rates.  Premium rates start \\nfairly low and then rise after you convert.  When you shop for term insurance, look for \\npolicies that are both renewable and convertible.  \\nJoint life insurance \\nWhen a husband and wife or business associates need life insurance, it is often cheaper to buy a joint life insurance policy instead of two or more separate policies.  \\nWhile this type of insurance saves on administrative costs, the policy usually only pays \\nthe death benefit on the first to die.  However, some companies issue “second or last \\nto die” policies for estate planning.\\nFamily insurance \\nThis is basically a whole life insurance policy on a parent with smaller amounts of \\nadditional term insurance on other family members. \\nFinal expense insurance  \\nAlso known as “burial policies” or “senior life insurance packages,” these small policies cover or pre-pay a person’s funeral costs. Historically, some of these policies had a \\nvery high price compared to the death benefit. In response to consumer complaints, \\nWashington created the high-priced life insurance regulation.     \\nThis regulation includes a special formula that bans companies from marketing certain \\nhigh-priced life insurance policies with small death benefits. Companies cannot sell life \\ninsurance polices in Washington when the amount paid into them quickly exceeds the \\npossible benefit.  For example, during the first 10 years of the policy, the death benefit \\nmust be greater than the sum of the premiums compounded at the average interest \\nrate on five-year government bonds. Otherwise, you would be better off with your \\nmoney in a savings account. \\nPlease note:   This rule does not apply to policies with a death benefit of $5,000  \\nor more.', start_char_idx=None, end_char_idx=None, text_template='{metadata_str}\\n\\n{content}', metadata_template='{key}: {value}', metadata_seperator='\\n'),\n",
       " Document(id_='6cd5baa7-2e06-43f5-817e-2657c2c14cdc', embedding=None, metadata={'page_label': '11', 'file_name': 'life_insurance_guide.pdf', 'file_path': 'D:\\\\PracticeProjects\\\\RAG_LLAMA_INDEX\\\\Data\\\\life_insurance_guide.pdf', 'file_type': 'application/pdf', 'file_size': 1031179, 'creation_date': '2024-08-08', 'last_modified_date': '2024-08-08', 'last_accessed_date': '2024-08-09'}, excluded_embed_metadata_keys=['file_name', 'file_type', 'file_size', 'creation_date', 'last_modified_date', 'last_accessed_date'], excluded_llm_metadata_keys=['file_name', 'file_type', 'file_size', 'creation_date', 'last_modified_date', 'last_accessed_date'], relationships={}, text='11\\nWashington State Office of the Insurance CommissionerOptional policy benefits\\nWaiver of premium  \\nIf you become seriously ill or injured and cannot work, you may not be able to pay \\nyour premium.  A waiver of premium benefit lets you waive paying your premiums as \\nlong as you remain disabled (according the definition in your policy).  You must remain \\ndisabled at least six months to collect this modest disability income benefit.  You can \\nusually add this life insurance extra to your policy for only a few cents more per month \\nper thousand dollars of insurance coverage.\\nAccidental death benefit  \\nThe industry also refers to this life insurance extra, as “double, triple, or additional” indemnity. If an accident causes your death, this life insurance extra allows your \\nbeneficiaries to receive double, triple, or even more of your policy’s death benefit \\nvalue.\\nAccelerated life insurance benefit \\nThis permits life insurance companies to include policy language that allows for an early, discounted benefit payment to terminally ill policyholders.  A doctor must certify \\nthat policyholders have less than 24 months to live.   \\nWhat you should know about trading in \\npolicies\\nIt’s become more common for policyholders to use their life insurance cash values in \\nvarious financial actions.  Some people borrow the base value of their policy to take \\nadvantage of the low interest rate.  Some cash their policies in and put the cash in \\nhigher interest accounts while making other plans for their insurance needs.  Others \\nmay look into new developments in the life insurance market, such as policies that \\ninclude investments or variable interest options.\\nBe careful if you are tempted to use your life insurance coverage as described in these \\nexamples.  Your individual and family situation will help you decide if any of these \\noptions will work for you.  \\nIf you decide to change your coverage, you should never drop your old policy until \\nthe new one takes effect, and you have reviewed it.  Ask your agent or broker for \\ncomplete disclosure on any new policy you are thinking about buying.\\nIf an agent or broker suggests you exchange a policy for a new one, ask for a \\ncomparison of the new offering and the old policy.  Be sure to get it in writing before \\nyou agree to the transaction.  ', start_char_idx=None, end_char_idx=None, text_template='{metadata_str}\\n\\n{content}', metadata_template='{key}: {value}', metadata_seperator='\\n'),\n",
       " Document(id_='af8c6379-42b8-4d36-a06f-ce2246daf964', embedding=None, metadata={'page_label': '12', 'file_name': 'life_insurance_guide.pdf', 'file_path': 'D:\\\\PracticeProjects\\\\RAG_LLAMA_INDEX\\\\Data\\\\life_insurance_guide.pdf', 'file_type': 'application/pdf', 'file_size': 1031179, 'creation_date': '2024-08-08', 'last_modified_date': '2024-08-08', 'last_accessed_date': '2024-08-09'}, excluded_embed_metadata_keys=['file_name', 'file_type', 'file_size', 'creation_date', 'last_modified_date', 'last_accessed_date'], excluded_llm_metadata_keys=['file_name', 'file_type', 'file_size', 'creation_date', 'last_modified_date', 'last_accessed_date'], relationships={}, text='12\\nWashington State Office of the Insurance CommissionerBe aware that any replacement policy may contain new restrictions such as a new \\ntwo-year suicide clause, and may allow the company to revoke your policy for false \\nstatements on your application.  Replacement policies may also include important \\nnew surrender penalties if you wish to cash them in.  A surrender penalty is a financial \\npenalty you pay for canceling a policy or contract early.  Older people should be wary \\nof trading in current policies for new ones that require a substantial new surrender \\npenalty.\\nIf you trade in policies, by law you must receive a “Notice Regarding Replacement \\nof Insurance.”  This will help you make the best decision when you’re thinking about \\nreplacing an existing life insurance policy.  The agent or broker should give you a \\ncompleted replacement notice at the time he or she takes your applications for the new insurance policy.\\nThe “free-look” rule also applies to consumers who exchange one policy for another.  \\n(For an explanation of the free-look rule, see page 2).\\nWhat you should know about death \\nclaims\\nThe company’s home office usually handles life insurance claims.  Your beneficiary will \\nneed to notify the company and request a claim form.  Your beneficiary should expect \\nto provide the company’s claim department with:\\n• A completed claim form \\n• A certified copy of the death certificate \\n• The life insurance policy or a lost policy affidavit \\nYour beneficiary should keep copies of the documents he or she sends to the company.\\nTypically, beneficiaries will get a death-claim settlement from the company once he \\nor she provides due proof of the policyholder’s death, and turns in the policy.  Due \\nproof is what the company normally requires to establish that death occurred.  Your \\nbeneficiary can provide due proof with one of the following:\\n• Death certificate from the Office of Vital Statistics\\n• Coroner’s report• Attending doctor’s statement • Hospital certificate of death', start_char_idx=None, end_char_idx=None, text_template='{metadata_str}\\n\\n{content}', metadata_template='{key}: {value}', metadata_seperator='\\n'),\n",
       " Document(id_='16a80b75-32f8-4eb1-989c-17afe827607d', embedding=None, metadata={'page_label': '13', 'file_name': 'life_insurance_guide.pdf', 'file_path': 'D:\\\\PracticeProjects\\\\RAG_LLAMA_INDEX\\\\Data\\\\life_insurance_guide.pdf', 'file_type': 'application/pdf', 'file_size': 1031179, 'creation_date': '2024-08-08', 'last_modified_date': '2024-08-08', 'last_accessed_date': '2024-08-09'}, excluded_embed_metadata_keys=['file_name', 'file_type', 'file_size', 'creation_date', 'last_modified_date', 'last_accessed_date'], excluded_llm_metadata_keys=['file_name', 'file_type', 'file_size', 'creation_date', 'last_modified_date', 'last_accessed_date'], relationships={}, text='13\\nWashington State Office of the Insurance CommissionerIndividual policies \\nTo ensure prompt settlements, insurers must pay your beneficiary no less than 8 \\npercent interest starting from the date of death.  An additional 3 percent is payable \\non those claims not settled within 90 days of when the beneficiary provided proof of \\ndeath.  \\nWhat your beneficiary can expect \\nIn most instances, your beneficiary will receive the death benefit amount of the policy. Although, the insurer may adjust the amount depending on the specifics of \\nyour coverage.  For example, any loan against the cash value of the policy and any \\ninterest due on such a loan may reduce the face amount.  Also, adding any premium \\npayments made in advance, or subtracting premiums due may adjust the face value.  \\nFor a dividend paying policy, the insurer adds accrued dividends to the death benefit \\namount of the policy.\\nSettlement options\\nBeneficiaries normally have several options.  They may choose to:\\n• Receive the policy proceeds in cash as soon as the claim is settled  \\n• Leave the proceeds with the company, while it earns interest, until they decide \\nwhat to do \\n• Convert the proceeds into monthly income\\nFor example, companies usually offer beneficiaries several options to receive payment.  \\nOne method draws the amount down in equal monthly payments over a fixed time, \\nsuch as 10 years.  Another method places the proceeds in a life annuity, which will pay \\na monthly amount for as long as your beneficiary lives.  Yet another method provides a \\njoint annuity—one that pays as long as your two beneficiaries live.\\nYour policy must include a section explaining these settlement options.\\nOptions for seriously ill people\\nLife Settlements\\nMany people who suffer serious, terminal illnesses realize one of their most valuable \\nassets is a life insurance policy.  However, only the beneficiary has access to this asset \\nafter the policyholder passes away.  Life settlement contracts give the policyholder \\naccess to this asset prior to his or her death.  Life settlement companies arrange the \\n“sale” of life insurance benefits as an investment.  Typically, a life settlement company \\nagrees to buy the life insurance policy of a seriously ill person by paying the person ', start_char_idx=None, end_char_idx=None, text_template='{metadata_str}\\n\\n{content}', metadata_template='{key}: {value}', metadata_seperator='\\n'),\n",
       " Document(id_='01750395-ab2a-49b1-82af-731e0fea2ccb', embedding=None, metadata={'page_label': '14', 'file_name': 'life_insurance_guide.pdf', 'file_path': 'D:\\\\PracticeProjects\\\\RAG_LLAMA_INDEX\\\\Data\\\\life_insurance_guide.pdf', 'file_type': 'application/pdf', 'file_size': 1031179, 'creation_date': '2024-08-08', 'last_modified_date': '2024-08-08', 'last_accessed_date': '2024-08-09'}, excluded_embed_metadata_keys=['file_name', 'file_type', 'file_size', 'creation_date', 'last_modified_date', 'last_accessed_date'], excluded_llm_metadata_keys=['file_name', 'file_type', 'file_size', 'creation_date', 'last_modified_date', 'last_accessed_date'], relationships={}, text='14\\nWashington State Office of the Insurance Commissioneran amount less than the benefit.  The seriously ill person receives much needed cash, \\nand the buyer receives the full amount of the benefit.  This benefit is payable once the \\nformer policyholder dies.  \\nOther options \\nIf you own a cash value policy, you could take a loan from the policy to help pay \\nexpenses. Also, if your policy contains an accelerated benefits option for catastrophic \\nillness, you may qualify for a discounted payment from the face amount of the policy.  \\nTop 10 life insurance cautions\\n1. Beware if it sounds too good to be true. It probably is NOT true.\\n2. Never sign a form that leaves blank spaces—even if the agent or broker assures \\nyou it is merely a formality.\\n3. If someone offers you a chance to turn in a small policy for a larger one without \\npaying substantially more, WATCH OUT!\\n4. Don’t drop your old policy until your new policy takes effect.\\n5. Save every piece of paper explaining your coverage and your policy.  Keep them \\non file with your policy.  (If the agent used a laptop computer, insist on a hard \\ncopy version of what he or she showed you.)\\n6. Never buy coverage you don’t understand.  It is the responsibility of the agent, \\nbroker or company to explain your coverage in terms you can understand.\\n7. Don’t let someone pressure you.  You do NOT face any deadlines.\\n8. Don’t buy life insurance portrayed as a “pension plan” or a “retirement fund.” \\nLife insurance is NOT a pension plan.\\n9. Be careful of any life insurance plan that promises “vanishing premiums” or \\nguarantees you a premium-free policy over a specific period.\\n10. Never ignore notices from the insurance company even though your agent tells \\nyou it’s a “mistake” and nothing to worry about.', start_char_idx=None, end_char_idx=None, text_template='{metadata_str}\\n\\n{content}', metadata_template='{key}: {value}', metadata_seperator='\\n'),\n",
       " Document(id_='5c0dfd7e-3163-4b29-b51d-e8763009a8b4', embedding=None, metadata={'page_label': '15', 'file_name': 'life_insurance_guide.pdf', 'file_path': 'D:\\\\PracticeProjects\\\\RAG_LLAMA_INDEX\\\\Data\\\\life_insurance_guide.pdf', 'file_type': 'application/pdf', 'file_size': 1031179, 'creation_date': '2024-08-08', 'last_modified_date': '2024-08-08', 'last_accessed_date': '2024-08-09'}, excluded_embed_metadata_keys=['file_name', 'file_type', 'file_size', 'creation_date', 'last_modified_date', 'last_accessed_date'], excluded_llm_metadata_keys=['file_name', 'file_type', 'file_size', 'creation_date', 'last_modified_date', 'last_accessed_date'], relationships={}, text='15\\nWashington State Office of the Insurance CommissionerNeed more help?  \\nCall our Insurance Consumer Hotline!\\n1-800-562-6900\\nOur professional consumer advocates provide counseling on insurance options, enforce \\ninsurance law and can investigate complaints against insurance companies and agents on your \\nbehalf.\\nWe also offer individual counseling and group education on health care issues in your \\ncommunities.  Our highly trained Statewide Health Insurance Benefits Advisors (SHIBA) \\nvolunteers can help you understand your rights and options about Medicare, health care \\ncoverage, prescription drugs, government programs, and more.\\nVisit us at:\\nwww.insurance.wa.gov\\n2069-OIC-Guide-Life insurance-rev. 02/16', start_char_idx=None, end_char_idx=None, text_template='{metadata_str}\\n\\n{content}', metadata_template='{key}: {value}', metadata_seperator='\\n')]"
      ]
     },
     "execution_count": 5,
     "metadata": {},
     "output_type": "execute_result"
    }
   ],
   "source": [
    "documents"
   ]
  },
  {
   "cell_type": "code",
   "execution_count": 6,
   "metadata": {},
   "outputs": [],
   "source": [
    "system_prompt = '''\n",
    "You are a Question and Answer assistant. Your goal is to answer questions as \\\n",
    "accurately as possible based on the instructions and context provided.\n",
    "'''\n",
    "query_wrapper_prompt = SimpleInputPrompt(\"<|USER|>{query_str}<|ASSISTANT|>\")\n"
   ]
  },
  {
   "cell_type": "code",
   "execution_count": 15,
   "metadata": {},
   "outputs": [],
   "source": [
    "from dotenv import load_dotenv\n",
    "load_dotenv()\n",
    "HF_TOKEN = os.getenv(\"HUGGINGFACEHUB_API_TOKEN\")"
   ]
  },
  {
   "cell_type": "code",
   "execution_count": 23,
   "metadata": {},
   "outputs": [],
   "source": [
    "#Loading the Mistral Model\n",
    "import torch\n",
    "\n",
    "llm = HuggingFaceInferenceAPI(\n",
    "    token=HF_TOKEN,\n",
    "    context_window = 4096,\n",
    "    max_new_tokens = 256,\n",
    "    generate_kwargs = {\"temperature\" : 0, \"do_sample\": False},\n",
    "    system_prompt = system_prompt,\n",
    "    query_wrapper_prompt = query_wrapper_prompt,\n",
    "    tokenizer_name = \"mistralai/Mistral-7B-Instruct-v0.2\",\n",
    "    model_name = \"mistralai/Mistral-7B-Instruct-v0.2\",\n",
    "    device_map = \"auto\",\n",
    "    model_kwargs = {\"torch_dtype\": torch.float16, \"load_in_8bit\":True}\n",
    "    )\n",
    "\n",
    "# If running locally with downloaded model. Replace Token with HuggingFacehub CLI Login\n",
    "# llm = HuggingFaceLLM(\n",
    "#     context_window = 4096,\n",
    "#     max_new_tokens = 256,\n",
    "#     generate_kwargs = {\"temperature\" : 0, \"do_sample\": False},\n",
    "#     system_prompt = system_prompt,\n",
    "#     query_wrapper_prompt = query_wrapper_prompt,\n",
    "#     tokenizer_name = \"mistralai/Mistral-7B-Instruct-v0.2\",\n",
    "#     model_name = \"mistralai/Mistral-7B-Instruct-v0.2\",\n",
    "#     device_map = \"auto\",\n",
    "#     model_kwargs = {\"torch_dtype\": torch.float16, \"load_in_8bit\":True}\n",
    "#     )"
   ]
  },
  {
   "cell_type": "code",
   "execution_count": 24,
   "metadata": {},
   "outputs": [],
   "source": [
    "# Get the embedding model\n",
    "from langchain.embeddings.huggingface import HuggingFaceBgeEmbeddings\n",
    "from llama_index import ServiceContext\n",
    "from llama_index.embeddings import LangchainEmbedding\n"
   ]
  },
  {
   "cell_type": "code",
   "execution_count": 25,
   "metadata": {},
   "outputs": [],
   "source": [
    "embed_model = LangchainEmbedding(\n",
    "    HuggingFaceBgeEmbeddings(model_name = \"sentence-transformers/all-mpnet-base-v2\")\n",
    ")"
   ]
  },
  {
   "cell_type": "code",
   "execution_count": 26,
   "metadata": {},
   "outputs": [],
   "source": [
    "service_context = ServiceContext.from_defaults(\n",
    "    chunk_size = 1024,\n",
    "    llm = llm,\n",
    "    embed_model= embed_model\n",
    ")"
   ]
  },
  {
   "cell_type": "code",
   "execution_count": 27,
   "metadata": {},
   "outputs": [],
   "source": [
    "index = VectorStoreIndex.from_documents(documents, service_context= service_context)"
   ]
  },
  {
   "cell_type": "code",
   "execution_count": 28,
   "metadata": {},
   "outputs": [],
   "source": [
    "query_engine = index.as_query_engine()"
   ]
  },
  {
   "cell_type": "code",
   "execution_count": 29,
   "metadata": {},
   "outputs": [
    {
     "name": "stdout",
     "output_type": "stream",
     "text": [
      " Term Insurance is a type of life insurance that provides coverage for a specific term or period. It does not have a cash value and the policy expires once the term ends. The premiums for term insurance increase as the policyholder ages due to the increased risk of death. It is well suited to fill temporary insurance needs, such as bridging a gap in coverage between jobs.\n"
     ]
    }
   ],
   "source": [
    "query = \"What is Term Insurance ?\"\n",
    "response = query_engine.query(query)\n",
    "print(response)"
   ]
  },
  {
   "cell_type": "code",
   "execution_count": null,
   "metadata": {},
   "outputs": [],
   "source": []
  }
 ],
 "metadata": {
  "kernelspec": {
   "display_name": "pytorchGPU",
   "language": "python",
   "name": "python3"
  },
  "language_info": {
   "codemirror_mode": {
    "name": "ipython",
    "version": 3
   },
   "file_extension": ".py",
   "mimetype": "text/x-python",
   "name": "python",
   "nbconvert_exporter": "python",
   "pygments_lexer": "ipython3",
   "version": "3.11.8"
  }
 },
 "nbformat": 4,
 "nbformat_minor": 2
}
